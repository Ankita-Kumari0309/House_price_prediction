{
 "cells": [
  {
   "cell_type": "code",
   "execution_count": null,
   "id": "c4d44ccf",
   "metadata": {},
   "outputs": [],
   "source": [
    "\n",
    "import pandas as pd\n",
    "import numpy as np\n",
    "import matplotlib.pyplot as plt\n",
    "import seaborn as sns\n",
    "import pickle\n",
    "import json\n",
    "from sklearn.model_selection import train_test_split\n",
    "from sklearn.linear_model import LinearRegression\n"
   ]
  },
  {
   "cell_type": "code",
   "execution_count": null,
   "id": "01796678",
   "metadata": {},
   "outputs": [],
   "source": [
    "\n",
    "def load_data(path):\n",
    "    return pd.read_csv(path)\n",
    "\n",
    "data = load_data(\"Bengaluru_House_Data.csv\")\n",
    "data.head()\n"
   ]
  },
  {
   "cell_type": "code",
   "execution_count": null,
   "id": "c498e275",
   "metadata": {},
   "outputs": [],
   "source": [
    "\n",
    "def convert_sqft_to_num(x):\n",
    "    try:\n",
    "        if '-' in str(x):\n",
    "            tokens = x.split('-')\n",
    "            return (float(tokens[0]) + float(tokens[1])) / 2\n",
    "        return float(x)\n",
    "    except:\n",
    "        return None\n"
   ]
  },
  {
   "cell_type": "code",
   "execution_count": null,
   "id": "f5097ca4",
   "metadata": {},
   "outputs": [],
   "source": [
    "\n",
    "def clean_data(df):\n",
    "    df = df.drop(columns=[\"society\", \"balcony\", \"availability\"], errors='ignore')\n",
    "    df['size'] = df['size'].fillna('0 BHK')\n",
    "    df['bhk'] = df['size'].apply(lambda x: int(str(x).split(' ')[0]))\n",
    "    df['total_sqft'] = df['total_sqft'].apply(convert_sqft_to_num)\n",
    "    df = df[df['total_sqft'].notnull()]\n",
    "    df['price_per_sqft'] = df['price'] * 100000 / df['total_sqft']\n",
    "    df = df.dropna(subset=['location'])\n",
    "    df['location'] = df['location'].apply(lambda x: x.strip())\n",
    "    return df\n",
    "\n",
    "data = clean_data(data)\n",
    "data.head()\n"
   ]
  },
  {
   "cell_type": "code",
   "execution_count": null,
   "id": "714c25e2",
   "metadata": {},
   "outputs": [],
   "source": [
    "\n",
    "def remove_outliers(df):\n",
    "    df = df[df['bhk'] < 20]\n",
    "    df = df[df['total_sqft']/df['bhk'] >= 300]\n",
    "    df = df[(df['price_per_sqft'] >= 1000) & (df['price_per_sqft'] <= 10000)]\n",
    "    return df\n",
    "\n",
    "data = remove_outliers(data)\n"
   ]
  },
  {
   "cell_type": "code",
   "execution_count": null,
   "id": "df05decd",
   "metadata": {},
   "outputs": [],
   "source": [
    "\n",
    "def encode_features(df):\n",
    "    dummies = pd.get_dummies(df['location'], drop_first=True)\n",
    "    df = pd.concat([df.drop('location', axis=1), dummies], axis=1)\n",
    "    return df\n",
    "\n",
    "data = encode_features(data)\n"
   ]
  },
  {
   "cell_type": "code",
   "execution_count": null,
   "id": "be33e2cd",
   "metadata": {},
   "outputs": [],
   "source": [
    "\n",
    "def train_model(df):\n",
    "    X = df.drop(\"price\", axis=1)\n",
    "    y = df[\"price\"]\n",
    "    X_train, X_test, y_train, y_test = train_test_split(X, y, test_size=0.2, random_state=42)\n",
    "    model = LinearRegression()\n",
    "    model.fit(X_train, y_train)\n",
    "    return model, X\n",
    "\n",
    "model, X = train_model(data)\n"
   ]
  },
  {
   "cell_type": "code",
   "execution_count": null,
   "id": "db34f66a",
   "metadata": {},
   "outputs": [],
   "source": [
    "\n",
    "def save_model(model, X, filename_model, filename_columns):\n",
    "    with open(filename_model, \"wb\") as f:\n",
    "        pickle.dump(model, f)\n",
    "\n",
    "    columns = {\"data_columns\": list(X.columns)}\n",
    "    with open(filename_columns, \"w\") as f:\n",
    "        json.dump(columns, f)\n",
    "\n",
    "save_model(model, X, \"banglore_home_prices_model.pickle\", \"columns.json\")\n"
   ]
  },
  {
   "cell_type": "code",
   "execution_count": null,
   "id": "a0f71655",
   "metadata": {},
   "outputs": [],
   "source": [
    "\n",
    "def predict_price(input_dict, model, data_columns):\n",
    "    x = np.zeros(len(data_columns))\n",
    "    x[0] = input_dict['total_sqft']\n",
    "    x[1] = input_dict['bath']\n",
    "    x[2] = input_dict['bhk']\n",
    "    if input_dict['location'] in data_columns:\n",
    "        loc_index = data_columns.index(input_dict['location'])\n",
    "        x[loc_index] = 1\n",
    "    return round(max(model.predict([x])[0], 0), 2)\n"
   ]
  },
  {
   "cell_type": "code",
   "execution_count": null,
   "id": "a2e4c11f",
   "metadata": {},
   "outputs": [],
   "source": [
    "\n",
    "# Example usage:\n",
    "with open(\"columns.json\", \"r\") as f:\n",
    "    data_columns = json.load(f)['data_columns']\n",
    "\n",
    "price = predict_price({\n",
    "    \"location\": \"Whitefield\",\n",
    "    \"total_sqft\": 1600,\n",
    "    \"bath\": 3,\n",
    "    \"bhk\": 4\n",
    "}, model, data_columns)\n",
    "\n",
    "print(\"Predicted Price: ₹\", price, \"Lakhs\")\n"
   ]
  }
 ],
 "metadata": {},
 "nbformat": 4,
 "nbformat_minor": 5
}
